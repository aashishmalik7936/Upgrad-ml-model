{
  "nbformat": 4,
  "nbformat_minor": 0,
  "metadata": {
    "colab": {
      "name": "upgrad model.ipynb",
      "version": "0.3.2",
      "provenance": []
    },
    "kernelspec": {
      "name": "python3",
      "display_name": "Python 3"
    }
  },
  "cells": [
    {
      "metadata": {
        "id": "VKfb2KHxqH97",
        "colab_type": "code",
        "colab": {}
      },
      "cell_type": "code",
      "source": [
        "import pandas as pd\n",
        "import lightgbm as lgb\n",
        "from imblearn.over_sampling import SMOTE\n",
        "from sklearn.model_selection import StratifiedKFold\n",
        "from sklearn.linear_model import LogisticRegression\n",
        "from sklearn.metrics import accuracy_score\n",
        "import numpy as np\n",
        "from sklearn.tree import DecisionTreeClassifier\n",
        "from sklearn.ensemble import RandomForestClassifier\n",
        "train_df=pd.read_csv('bank-additional-full.csv')"
      ],
      "execution_count": 0,
      "outputs": []
    },
    {
      "metadata": {
        "id": "gJT3L0N0s9FI",
        "colab_type": "code",
        "outputId": "566d6de9-6564-4868-a45f-90bdae9155a2",
        "colab": {
          "base_uri": "https://localhost:8080/",
          "height": 243
        }
      },
      "cell_type": "code",
      "source": [
        "train_df.head()"
      ],
      "execution_count": 27,
      "outputs": [
        {
          "output_type": "execute_result",
          "data": {
            "text/html": [
              "<div>\n",
              "<style scoped>\n",
              "    .dataframe tbody tr th:only-of-type {\n",
              "        vertical-align: middle;\n",
              "    }\n",
              "\n",
              "    .dataframe tbody tr th {\n",
              "        vertical-align: top;\n",
              "    }\n",
              "\n",
              "    .dataframe thead th {\n",
              "        text-align: right;\n",
              "    }\n",
              "</style>\n",
              "<table border=\"1\" class=\"dataframe\">\n",
              "  <thead>\n",
              "    <tr style=\"text-align: right;\">\n",
              "      <th></th>\n",
              "      <th>age</th>\n",
              "      <th>job</th>\n",
              "      <th>marital</th>\n",
              "      <th>education</th>\n",
              "      <th>default</th>\n",
              "      <th>housing</th>\n",
              "      <th>loan</th>\n",
              "      <th>contact</th>\n",
              "      <th>month</th>\n",
              "      <th>day_of_week</th>\n",
              "      <th>...</th>\n",
              "      <th>campaign</th>\n",
              "      <th>pdays</th>\n",
              "      <th>previous</th>\n",
              "      <th>poutcome</th>\n",
              "      <th>emp.var.rate</th>\n",
              "      <th>cons.price.idx</th>\n",
              "      <th>cons.conf.idx</th>\n",
              "      <th>euribor3m</th>\n",
              "      <th>nr.employed</th>\n",
              "      <th>y</th>\n",
              "    </tr>\n",
              "  </thead>\n",
              "  <tbody>\n",
              "    <tr>\n",
              "      <th>0</th>\n",
              "      <td>56</td>\n",
              "      <td>housemaid</td>\n",
              "      <td>married</td>\n",
              "      <td>basic.4y</td>\n",
              "      <td>no</td>\n",
              "      <td>no</td>\n",
              "      <td>no</td>\n",
              "      <td>telephone</td>\n",
              "      <td>may</td>\n",
              "      <td>mon</td>\n",
              "      <td>...</td>\n",
              "      <td>1</td>\n",
              "      <td>999</td>\n",
              "      <td>0</td>\n",
              "      <td>nonexistent</td>\n",
              "      <td>1.1</td>\n",
              "      <td>93.994</td>\n",
              "      <td>-36.4</td>\n",
              "      <td>4.857</td>\n",
              "      <td>5191.0</td>\n",
              "      <td>no</td>\n",
              "    </tr>\n",
              "    <tr>\n",
              "      <th>1</th>\n",
              "      <td>57</td>\n",
              "      <td>services</td>\n",
              "      <td>married</td>\n",
              "      <td>high.school</td>\n",
              "      <td>unknown</td>\n",
              "      <td>no</td>\n",
              "      <td>no</td>\n",
              "      <td>telephone</td>\n",
              "      <td>may</td>\n",
              "      <td>mon</td>\n",
              "      <td>...</td>\n",
              "      <td>1</td>\n",
              "      <td>999</td>\n",
              "      <td>0</td>\n",
              "      <td>nonexistent</td>\n",
              "      <td>1.1</td>\n",
              "      <td>93.994</td>\n",
              "      <td>-36.4</td>\n",
              "      <td>4.857</td>\n",
              "      <td>5191.0</td>\n",
              "      <td>no</td>\n",
              "    </tr>\n",
              "    <tr>\n",
              "      <th>2</th>\n",
              "      <td>37</td>\n",
              "      <td>services</td>\n",
              "      <td>married</td>\n",
              "      <td>high.school</td>\n",
              "      <td>no</td>\n",
              "      <td>yes</td>\n",
              "      <td>no</td>\n",
              "      <td>telephone</td>\n",
              "      <td>may</td>\n",
              "      <td>mon</td>\n",
              "      <td>...</td>\n",
              "      <td>1</td>\n",
              "      <td>999</td>\n",
              "      <td>0</td>\n",
              "      <td>nonexistent</td>\n",
              "      <td>1.1</td>\n",
              "      <td>93.994</td>\n",
              "      <td>-36.4</td>\n",
              "      <td>4.857</td>\n",
              "      <td>5191.0</td>\n",
              "      <td>no</td>\n",
              "    </tr>\n",
              "    <tr>\n",
              "      <th>3</th>\n",
              "      <td>40</td>\n",
              "      <td>admin.</td>\n",
              "      <td>married</td>\n",
              "      <td>basic.6y</td>\n",
              "      <td>no</td>\n",
              "      <td>no</td>\n",
              "      <td>no</td>\n",
              "      <td>telephone</td>\n",
              "      <td>may</td>\n",
              "      <td>mon</td>\n",
              "      <td>...</td>\n",
              "      <td>1</td>\n",
              "      <td>999</td>\n",
              "      <td>0</td>\n",
              "      <td>nonexistent</td>\n",
              "      <td>1.1</td>\n",
              "      <td>93.994</td>\n",
              "      <td>-36.4</td>\n",
              "      <td>4.857</td>\n",
              "      <td>5191.0</td>\n",
              "      <td>no</td>\n",
              "    </tr>\n",
              "    <tr>\n",
              "      <th>4</th>\n",
              "      <td>56</td>\n",
              "      <td>services</td>\n",
              "      <td>married</td>\n",
              "      <td>high.school</td>\n",
              "      <td>no</td>\n",
              "      <td>no</td>\n",
              "      <td>yes</td>\n",
              "      <td>telephone</td>\n",
              "      <td>may</td>\n",
              "      <td>mon</td>\n",
              "      <td>...</td>\n",
              "      <td>1</td>\n",
              "      <td>999</td>\n",
              "      <td>0</td>\n",
              "      <td>nonexistent</td>\n",
              "      <td>1.1</td>\n",
              "      <td>93.994</td>\n",
              "      <td>-36.4</td>\n",
              "      <td>4.857</td>\n",
              "      <td>5191.0</td>\n",
              "      <td>no</td>\n",
              "    </tr>\n",
              "  </tbody>\n",
              "</table>\n",
              "<p>5 rows × 21 columns</p>\n",
              "</div>"
            ],
            "text/plain": [
              "   age        job  marital    education  default housing loan    contact  \\\n",
              "0   56  housemaid  married     basic.4y       no      no   no  telephone   \n",
              "1   57   services  married  high.school  unknown      no   no  telephone   \n",
              "2   37   services  married  high.school       no     yes   no  telephone   \n",
              "3   40     admin.  married     basic.6y       no      no   no  telephone   \n",
              "4   56   services  married  high.school       no      no  yes  telephone   \n",
              "\n",
              "  month day_of_week ...  campaign  pdays  previous     poutcome emp.var.rate  \\\n",
              "0   may         mon ...         1    999         0  nonexistent          1.1   \n",
              "1   may         mon ...         1    999         0  nonexistent          1.1   \n",
              "2   may         mon ...         1    999         0  nonexistent          1.1   \n",
              "3   may         mon ...         1    999         0  nonexistent          1.1   \n",
              "4   may         mon ...         1    999         0  nonexistent          1.1   \n",
              "\n",
              "   cons.price.idx  cons.conf.idx  euribor3m  nr.employed   y  \n",
              "0          93.994          -36.4      4.857       5191.0  no  \n",
              "1          93.994          -36.4      4.857       5191.0  no  \n",
              "2          93.994          -36.4      4.857       5191.0  no  \n",
              "3          93.994          -36.4      4.857       5191.0  no  \n",
              "4          93.994          -36.4      4.857       5191.0  no  \n",
              "\n",
              "[5 rows x 21 columns]"
            ]
          },
          "metadata": {
            "tags": []
          },
          "execution_count": 27
        }
      ]
    },
    {
      "metadata": {
        "id": "01RVJ7MW2IjL",
        "colab_type": "code",
        "outputId": "7aa50b8a-76d2-4ae2-e3e0-2e31ad023bd2",
        "colab": {
          "base_uri": "https://localhost:8080/",
          "height": 479
        }
      },
      "cell_type": "code",
      "source": [
        "train_df.info()"
      ],
      "execution_count": 28,
      "outputs": [
        {
          "output_type": "stream",
          "text": [
            "<class 'pandas.core.frame.DataFrame'>\n",
            "RangeIndex: 41188 entries, 0 to 41187\n",
            "Data columns (total 21 columns):\n",
            "age               41188 non-null int64\n",
            "job               41188 non-null object\n",
            "marital           41188 non-null object\n",
            "education         41188 non-null object\n",
            "default           41188 non-null object\n",
            "housing           41188 non-null object\n",
            "loan              41188 non-null object\n",
            "contact           41188 non-null object\n",
            "month             41188 non-null object\n",
            "day_of_week       41188 non-null object\n",
            "duration          41188 non-null int64\n",
            "campaign          41188 non-null int64\n",
            "pdays             41188 non-null int64\n",
            "previous          41188 non-null int64\n",
            "poutcome          41188 non-null object\n",
            "emp.var.rate      41188 non-null float64\n",
            "cons.price.idx    41188 non-null float64\n",
            "cons.conf.idx     41188 non-null float64\n",
            "euribor3m         41188 non-null float64\n",
            "nr.employed       41188 non-null float64\n",
            "y                 41188 non-null object\n",
            "dtypes: float64(5), int64(5), object(11)\n",
            "memory usage: 6.6+ MB\n"
          ],
          "name": "stdout"
        }
      ]
    },
    {
      "metadata": {
        "id": "Waz-7RSu2LqV",
        "colab_type": "code",
        "colab": {}
      },
      "cell_type": "code",
      "source": [
        "dic={'no':0, 'yes':1}\n",
        "train_df['y']=train_df['y'].map(dic)"
      ],
      "execution_count": 0,
      "outputs": []
    },
    {
      "metadata": {
        "id": "NuzGeFnGPlow",
        "colab_type": "code",
        "outputId": "b5dc512d-0f4b-4a44-a276-47dc1de36fce",
        "colab": {
          "base_uri": "https://localhost:8080/",
          "height": 416
        }
      },
      "cell_type": "code",
      "source": [
        "import seaborn as sns\n",
        "sns.heatmap(train_df.corr())"
      ],
      "execution_count": 30,
      "outputs": [
        {
          "output_type": "execute_result",
          "data": {
            "text/plain": [
              "<matplotlib.axes._subplots.AxesSubplot at 0x7fbab1ffd710>"
            ]
          },
          "metadata": {
            "tags": []
          },
          "execution_count": 30
        },
        {
          "output_type": "display_data",
          "data": {
            "image/png": "[encoded data removed]",
            "text/plain": [
              "<Figure size 576x396 with 2 Axes>"
            ]
          },
          "metadata": {
            "tags": []
          }
        }
      ]
    },
    {
      "metadata": {
        "id": "cterOI3s_Hkl",
        "colab_type": "code",
        "colab": {}
      },
      "cell_type": "code",
      "source": [
        "cat_cols=['job', 'education', 'day_of_week', 'marital', 'default', 'housing', 'contact', 'loan', 'poutcome', 'month']\n",
        "for col in cat_cols:\n",
        "  dummies_1 = pd.get_dummies(train_df.loc[:, col], prefix=col)  \n",
        "  train_df = pd.concat([train_df, dummies_1], axis = 1)\n",
        "  train_df = train_df.drop(col, axis =1)"
      ],
      "execution_count": 0,
      "outputs": []
    },
    {
      "metadata": {
        "id": "txz1q3k__JvM",
        "colab_type": "code",
        "outputId": "ed169fe9-1127-4877-cef2-89fcf0aecf6e",
        "colab": {
          "base_uri": "https://localhost:8080/",
          "height": 243
        }
      },
      "cell_type": "code",
      "source": [
        "train_df.head()"
      ],
      "execution_count": 20,
      "outputs": [
        {
          "output_type": "execute_result",
          "data": {
            "text/html": [
              "<div>\n",
              "<style scoped>\n",
              "    .dataframe tbody tr th:only-of-type {\n",
              "        vertical-align: middle;\n",
              "    }\n",
              "\n",
              "    .dataframe tbody tr th {\n",
              "        vertical-align: top;\n",
              "    }\n",
              "\n",
              "    .dataframe thead th {\n",
              "        text-align: right;\n",
              "    }\n",
              "</style>\n",
              "<table border=\"1\" class=\"dataframe\">\n",
              "  <thead>\n",
              "    <tr style=\"text-align: right;\">\n",
              "      <th></th>\n",
              "      <th>age</th>\n",
              "      <th>duration</th>\n",
              "      <th>campaign</th>\n",
              "      <th>pdays</th>\n",
              "      <th>previous</th>\n",
              "      <th>emp.var.rate</th>\n",
              "      <th>cons.price.idx</th>\n",
              "      <th>cons.conf.idx</th>\n",
              "      <th>euribor3m</th>\n",
              "      <th>nr.employed</th>\n",
              "      <th>...</th>\n",
              "      <th>education_high.school</th>\n",
              "      <th>education_illiterate</th>\n",
              "      <th>education_professional.course</th>\n",
              "      <th>education_university.degree</th>\n",
              "      <th>education_unknown</th>\n",
              "      <th>day_of_week_fri</th>\n",
              "      <th>day_of_week_mon</th>\n",
              "      <th>day_of_week_thu</th>\n",
              "      <th>day_of_week_tue</th>\n",
              "      <th>day_of_week_wed</th>\n",
              "    </tr>\n",
              "  </thead>\n",
              "  <tbody>\n",
              "    <tr>\n",
              "      <th>0</th>\n",
              "      <td>56</td>\n",
              "      <td>261</td>\n",
              "      <td>1</td>\n",
              "      <td>999</td>\n",
              "      <td>0</td>\n",
              "      <td>1.1</td>\n",
              "      <td>93.994</td>\n",
              "      <td>-36.4</td>\n",
              "      <td>4.857</td>\n",
              "      <td>5191.0</td>\n",
              "      <td>...</td>\n",
              "      <td>0</td>\n",
              "      <td>0</td>\n",
              "      <td>0</td>\n",
              "      <td>0</td>\n",
              "      <td>0</td>\n",
              "      <td>0</td>\n",
              "      <td>1</td>\n",
              "      <td>0</td>\n",
              "      <td>0</td>\n",
              "      <td>0</td>\n",
              "    </tr>\n",
              "    <tr>\n",
              "      <th>1</th>\n",
              "      <td>57</td>\n",
              "      <td>149</td>\n",
              "      <td>1</td>\n",
              "      <td>999</td>\n",
              "      <td>0</td>\n",
              "      <td>1.1</td>\n",
              "      <td>93.994</td>\n",
              "      <td>-36.4</td>\n",
              "      <td>4.857</td>\n",
              "      <td>5191.0</td>\n",
              "      <td>...</td>\n",
              "      <td>1</td>\n",
              "      <td>0</td>\n",
              "      <td>0</td>\n",
              "      <td>0</td>\n",
              "      <td>0</td>\n",
              "      <td>0</td>\n",
              "      <td>1</td>\n",
              "      <td>0</td>\n",
              "      <td>0</td>\n",
              "      <td>0</td>\n",
              "    </tr>\n",
              "    <tr>\n",
              "      <th>2</th>\n",
              "      <td>37</td>\n",
              "      <td>226</td>\n",
              "      <td>1</td>\n",
              "      <td>999</td>\n",
              "      <td>0</td>\n",
              "      <td>1.1</td>\n",
              "      <td>93.994</td>\n",
              "      <td>-36.4</td>\n",
              "      <td>4.857</td>\n",
              "      <td>5191.0</td>\n",
              "      <td>...</td>\n",
              "      <td>1</td>\n",
              "      <td>0</td>\n",
              "      <td>0</td>\n",
              "      <td>0</td>\n",
              "      <td>0</td>\n",
              "      <td>0</td>\n",
              "      <td>1</td>\n",
              "      <td>0</td>\n",
              "      <td>0</td>\n",
              "      <td>0</td>\n",
              "    </tr>\n",
              "    <tr>\n",
              "      <th>3</th>\n",
              "      <td>40</td>\n",
              "      <td>151</td>\n",
              "      <td>1</td>\n",
              "      <td>999</td>\n",
              "      <td>0</td>\n",
              "      <td>1.1</td>\n",
              "      <td>93.994</td>\n",
              "      <td>-36.4</td>\n",
              "      <td>4.857</td>\n",
              "      <td>5191.0</td>\n",
              "      <td>...</td>\n",
              "      <td>0</td>\n",
              "      <td>0</td>\n",
              "      <td>0</td>\n",
              "      <td>0</td>\n",
              "      <td>0</td>\n",
              "      <td>0</td>\n",
              "      <td>1</td>\n",
              "      <td>0</td>\n",
              "      <td>0</td>\n",
              "      <td>0</td>\n",
              "    </tr>\n",
              "    <tr>\n",
              "      <th>4</th>\n",
              "      <td>56</td>\n",
              "      <td>307</td>\n",
              "      <td>1</td>\n",
              "      <td>999</td>\n",
              "      <td>0</td>\n",
              "      <td>1.1</td>\n",
              "      <td>93.994</td>\n",
              "      <td>-36.4</td>\n",
              "      <td>4.857</td>\n",
              "      <td>5191.0</td>\n",
              "      <td>...</td>\n",
              "      <td>1</td>\n",
              "      <td>0</td>\n",
              "      <td>0</td>\n",
              "      <td>0</td>\n",
              "      <td>0</td>\n",
              "      <td>0</td>\n",
              "      <td>1</td>\n",
              "      <td>0</td>\n",
              "      <td>0</td>\n",
              "      <td>0</td>\n",
              "    </tr>\n",
              "  </tbody>\n",
              "</table>\n",
              "<p>5 rows × 36 columns</p>\n",
              "</div>"
            ],
            "text/plain": [
              "   age  duration  campaign  pdays  previous  emp.var.rate  cons.price.idx  \\\n",
              "0   56       261         1    999         0           1.1          93.994   \n",
              "1   57       149         1    999         0           1.1          93.994   \n",
              "2   37       226         1    999         0           1.1          93.994   \n",
              "3   40       151         1    999         0           1.1          93.994   \n",
              "4   56       307         1    999         0           1.1          93.994   \n",
              "\n",
              "   cons.conf.idx  euribor3m  nr.employed       ...         \\\n",
              "0          -36.4      4.857       5191.0       ...          \n",
              "1          -36.4      4.857       5191.0       ...          \n",
              "2          -36.4      4.857       5191.0       ...          \n",
              "3          -36.4      4.857       5191.0       ...          \n",
              "4          -36.4      4.857       5191.0       ...          \n",
              "\n",
              "   education_high.school  education_illiterate  education_professional.course  \\\n",
              "0                      0                     0                              0   \n",
              "1                      1                     0                              0   \n",
              "2                      1                     0                              0   \n",
              "3                      0                     0                              0   \n",
              "4                      1                     0                              0   \n",
              "\n",
              "   education_university.degree  education_unknown  day_of_week_fri  \\\n",
              "0                            0                  0                0   \n",
              "1                            0                  0                0   \n",
              "2                            0                  0                0   \n",
              "3                            0                  0                0   \n",
              "4                            0                  0                0   \n",
              "\n",
              "   day_of_week_mon  day_of_week_thu  day_of_week_tue  day_of_week_wed  \n",
              "0                1                0                0                0  \n",
              "1                1                0                0                0  \n",
              "2                1                0                0                0  \n",
              "3                1                0                0                0  \n",
              "4                1                0                0                0  \n",
              "\n",
              "[5 rows x 36 columns]"
            ]
          },
          "metadata": {
            "tags": []
          },
          "execution_count": 20
        }
      ]
    },
    {
      "metadata": {
        "id": "oShTsRiE3_Xr",
        "colab_type": "code",
        "outputId": "d043ac01-103c-4f33-a518-f727bb64bd1a",
        "colab": {
          "base_uri": "https://localhost:8080/",
          "height": 70
        }
      },
      "cell_type": "code",
      "source": [
        "train_df['y'].value_counts()"
      ],
      "execution_count": 22,
      "outputs": [
        {
          "output_type": "execute_result",
          "data": {
            "text/plain": [
              "0    36548\n",
              "1     4640\n",
              "Name: y, dtype: int64"
            ]
          },
          "metadata": {
            "tags": []
          },
          "execution_count": 22
        }
      ]
    },
    {
      "metadata": {
        "id": "uQ2jy08PSH1g",
        "colab_type": "code",
        "outputId": "d9c49073-22e7-48a5-f05d-7a38a074af58",
        "colab": {
          "base_uri": "https://localhost:8080/",
          "height": 301
        }
      },
      "cell_type": "code",
      "source": [
        "num_folds = 5\n",
        "features = [c for c in train_df.columns if c not in ['y']]\n",
        "folds=StratifiedKFold(n_splits=num_folds, shuffle=False, random_state=2319)\n",
        "oof = np.zeros(len(train_df))\n",
        "for fold_, (trn_idx, val_idx) in enumerate(folds.split(train_df.values, train_df['y'].values)):\n",
        "  X_train, y_train = train_df.iloc[trn_idx][features], train_df['y'].iloc[trn_idx]\n",
        "  X_valid, y_valid = train_df.iloc[val_idx][features], train_df['y'].iloc[val_idx]\n",
        "  lg=LogisticRegression()\n",
        "  lg.fit(X_train.values, y_train.values)\n",
        "  oof[val_idx]=lg.predict(X_valid.values)\n",
        "  print('Fold score:', accuracy_score(y_valid.values, lg.predict(X_valid)))\n",
        "print('Total score:', accuracy_score(train_df['y'].values, oof))  "
      ],
      "execution_count": 23,
      "outputs": [
        {
          "output_type": "stream",
          "text": [
            "/usr/local/lib/python3.6/dist-packages/sklearn/linear_model/logistic.py:433: FutureWarning: Default solver will be changed to 'lbfgs' in 0.22. Specify a solver to silence this warning.\n",
            "  FutureWarning)\n"
          ],
          "name": "stderr"
        },
        {
          "output_type": "stream",
          "text": [
            "Fold score: 0.8937848992473901\n"
          ],
          "name": "stdout"
        },
        {
          "output_type": "stream",
          "text": [
            "/usr/local/lib/python3.6/dist-packages/sklearn/linear_model/logistic.py:433: FutureWarning: Default solver will be changed to 'lbfgs' in 0.22. Specify a solver to silence this warning.\n",
            "  FutureWarning)\n"
          ],
          "name": "stderr"
        },
        {
          "output_type": "stream",
          "text": [
            "Fold score: 0.898761835396941\n"
          ],
          "name": "stdout"
        },
        {
          "output_type": "stream",
          "text": [
            "/usr/local/lib/python3.6/dist-packages/sklearn/linear_model/logistic.py:433: FutureWarning: Default solver will be changed to 'lbfgs' in 0.22. Specify a solver to silence this warning.\n",
            "  FutureWarning)\n"
          ],
          "name": "stderr"
        },
        {
          "output_type": "stream",
          "text": [
            "Fold score: 0.9047098810390871\n"
          ],
          "name": "stdout"
        },
        {
          "output_type": "stream",
          "text": [
            "/usr/local/lib/python3.6/dist-packages/sklearn/linear_model/logistic.py:433: FutureWarning: Default solver will be changed to 'lbfgs' in 0.22. Specify a solver to silence this warning.\n",
            "  FutureWarning)\n"
          ],
          "name": "stderr"
        },
        {
          "output_type": "stream",
          "text": [
            "Fold score: 0.8724050018210514\n"
          ],
          "name": "stdout"
        },
        {
          "output_type": "stream",
          "text": [
            "/usr/local/lib/python3.6/dist-packages/sklearn/linear_model/logistic.py:433: FutureWarning: Default solver will be changed to 'lbfgs' in 0.22. Specify a solver to silence this warning.\n",
            "  FutureWarning)\n"
          ],
          "name": "stderr"
        },
        {
          "output_type": "stream",
          "text": [
            "Fold score: 0.6945489862814131\n",
            "Total score: 0.852845488977372\n"
          ],
          "name": "stdout"
        }
      ]
    },
    {
      "metadata": {
        "id": "a1vBGnzgPWfT",
        "colab_type": "code",
        "colab": {
          "base_uri": "https://localhost:8080/",
          "height": 124
        },
        "outputId": "0595fd90-3481-4590-f007-9e4a6d386c8e"
      },
      "cell_type": "code",
      "source": [
        "num_folds = 5\n",
        "features = [c for c in train_df.columns if c not in ['y']]\n",
        "folds=StratifiedKFold(n_splits=num_folds, shuffle=False, random_state=2319)\n",
        "oof = np.zeros(len(train_df))\n",
        "for fold_, (trn_idx, val_idx) in enumerate(folds.split(train_df.values, train_df['y'].values)):\n",
        "  X_train, y_train = train_df.iloc[trn_idx][features], train_df['y'].iloc[trn_idx]\n",
        "  X_valid, y_valid = train_df.iloc[val_idx][features], train_df['y'].iloc[val_idx]\n",
        "  lg=DecisionTreeClassifier(random_state=42, max_depth=1)\n",
        "  lg.fit(X_train.values, y_train.values)\n",
        "  oof[val_idx]=lg.predict(X_valid.values)\n",
        "  print('Fold score:', accuracy_score(y_valid.values, lg.predict(X_valid)))\n",
        "print('Total score:', accuracy_score(train_df['y'].values, oof))"
      ],
      "execution_count": 37,
      "outputs": [
        {
          "output_type": "stream",
          "text": [
            "Fold score: 0.8873512988589464\n",
            "Fold score: 0.8873512988589464\n",
            "Fold score: 0.8873512988589464\n",
            "Fold score: 0.8873376229209664\n",
            "Fold score: 0.14434867063251183\n",
            "Total score: 0.7387588618044091\n"
          ],
          "name": "stdout"
        }
      ]
    },
    {
      "metadata": {
        "id": "kKNcfaErK2N-",
        "colab_type": "code",
        "colab": {
          "base_uri": "https://localhost:8080/",
          "height": 301
        },
        "outputId": "ba894d39-faad-4398-94e7-7756e0e9202e"
      },
      "cell_type": "code",
      "source": [
        "num_folds = 5\n",
        "features = [c for c in train_df.columns if c not in ['y']]\n",
        "folds=StratifiedKFold(n_splits=num_folds, shuffle=False, random_state=2319)\n",
        "oof = np.zeros(len(train_df))\n",
        "for fold_, (trn_idx, val_idx) in enumerate(folds.split(train_df.values, train_df['y'].values)):\n",
        "  X_train, y_train = train_df.iloc[trn_idx][features], train_df['y'].iloc[trn_idx]\n",
        "  X_valid, y_valid = train_df.iloc[val_idx][features], train_df['y'].iloc[val_idx]\n",
        "  lg=RandomForestClassifier(random_state=42, max_depth=1)\n",
        "  lg.fit(X_train.values, y_train.values)\n",
        "  oof[val_idx]=lg.predict(X_valid.values)\n",
        "  print('Fold score:', accuracy_score(y_valid.values, lg.predict(X_valid)))\n",
        "print('Total score:', accuracy_score(train_df['y'].values, oof))"
      ],
      "execution_count": 40,
      "outputs": [
        {
          "output_type": "stream",
          "text": [
            "/usr/local/lib/python3.6/dist-packages/sklearn/ensemble/forest.py:246: FutureWarning: The default value of n_estimators will change from 10 in version 0.20 to 100 in 0.22.\n",
            "  \"10 in version 0.20 to 100 in 0.22.\", FutureWarning)\n",
            "/usr/local/lib/python3.6/dist-packages/sklearn/ensemble/forest.py:246: FutureWarning: The default value of n_estimators will change from 10 in version 0.20 to 100 in 0.22.\n",
            "  \"10 in version 0.20 to 100 in 0.22.\", FutureWarning)\n"
          ],
          "name": "stderr"
        },
        {
          "output_type": "stream",
          "text": [
            "Fold score: 0.8873512988589464\n",
            "Fold score: 0.8873512988589464\n"
          ],
          "name": "stdout"
        },
        {
          "output_type": "stream",
          "text": [
            "/usr/local/lib/python3.6/dist-packages/sklearn/ensemble/forest.py:246: FutureWarning: The default value of n_estimators will change from 10 in version 0.20 to 100 in 0.22.\n",
            "  \"10 in version 0.20 to 100 in 0.22.\", FutureWarning)\n",
            "/usr/local/lib/python3.6/dist-packages/sklearn/ensemble/forest.py:246: FutureWarning: The default value of n_estimators will change from 10 in version 0.20 to 100 in 0.22.\n",
            "  \"10 in version 0.20 to 100 in 0.22.\", FutureWarning)\n"
          ],
          "name": "stderr"
        },
        {
          "output_type": "stream",
          "text": [
            "Fold score: 0.8873512988589464\n",
            "Fold score: 0.8873376229209664\n",
            "Fold score: 0.7369187811096273\n",
            "Total score: 0.857264251723803\n"
          ],
          "name": "stdout"
        },
        {
          "output_type": "stream",
          "text": [
            "/usr/local/lib/python3.6/dist-packages/sklearn/ensemble/forest.py:246: FutureWarning: The default value of n_estimators will change from 10 in version 0.20 to 100 in 0.22.\n",
            "  \"10 in version 0.20 to 100 in 0.22.\", FutureWarning)\n"
          ],
          "name": "stderr"
        }
      ]
    },
    {
      "metadata": {
        "id": "PWozU15bLmym",
        "colab_type": "code",
        "colab": {}
      },
      "cell_type": "code",
      "source": [
        "best_params = {'objective': 'binary',\n",
        "              'metric':'binary_error',\n",
        "              'boosting': 'gbdt',\n",
        "              'feature_fraction': 0.20473494522163582,\n",
        "              'learning_rate': 0.18140521566206408,\n",
        "              'max_bin': 443,\n",
        "              'max_depth': 4,\n",
        "              'min_child_samples': 173,\n",
        "              'min_data_in_leaf': 55,\n",
        "              'num_leaves': 338,\n",
        "              'reg_alpha': 1.0405437974574033e-08,\n",
        "              'reg_lambda': 0.0024930466999141137,\n",
        "              'scale_pos_weight': 1.284102299022877}"
      ],
      "execution_count": 0,
      "outputs": []
    },
    {
      "metadata": {
        "id": "GMNPVld9MMyq",
        "colab_type": "code",
        "colab": {
          "base_uri": "https://localhost:8080/",
          "height": 1528
        },
        "outputId": "8edd959b-08bd-4b55-fa8e-d0dac5d55280"
      },
      "cell_type": "code",
      "source": [
        "num_folds = 5\n",
        "features = [c for c in train_df.columns if c not in ['ID_code', 'y', 'default_yes', 'marital_unknown', 'education_illiterate', 'loan_unknown', 'job_student']]\n",
        "\n",
        "folds = StratifiedKFold(n_splits=num_folds, random_state=2319)\n",
        "oof = np.zeros(len(train_df))\n",
        "feature_importance_df = pd.DataFrame()\n",
        "\n",
        "print('Light GBM Model')\n",
        "for fold_, (trn_idx, val_idx) in enumerate(folds.split(train_df.values, train_df['y'].values)):\n",
        "    \n",
        "    X_train, y_train = train_df.iloc[trn_idx][features], train_df['y'].iloc[trn_idx]\n",
        "    X_valid, y_valid = train_df.iloc[val_idx][features], train_df['y'].iloc[val_idx]\n",
        "    \n",
        "    print(\"Fold idx:{}\".format(fold_ + 1))\n",
        "    trn_data = lgb.Dataset(X_train, label=y_train)\n",
        "    val_data = lgb.Dataset(X_valid, label=y_valid)\n",
        "    clf = lgb.train(best_params, trn_data, 1000000, valid_sets = [trn_data, val_data], verbose_eval=20, early_stopping_rounds = 200)\n",
        "    k=clf.predict(X_valid, num_iteration=clf.best_iteration)\n",
        "    k[k<0.5]=0\n",
        "    k[k>=0.5]=1\n",
        "    oof[val_idx] = k\n",
        "    \n",
        "    fold_importance_df = pd.DataFrame()\n",
        "    fold_importance_df[\"feature\"] = features\n",
        "    fold_importance_df[\"importance\"] = clf.feature_importance()\n",
        "    fold_importance_df[\"fold\"] = fold_ + 1\n",
        "    feature_importance_df = pd.concat([feature_importance_df, fold_importance_df], axis=0)\n",
        "    \n",
        "    print('Fold score:', accuracy_score(y_valid.values, k))\n",
        "print('Total score:', accuracy_score(train_df['y'].values, oof))  "
      ],
      "execution_count": 106,
      "outputs": [
        {
          "output_type": "stream",
          "text": [
            "Light GBM Model\n",
            "Fold idx:1\n",
            "Training until validation scores don't improve for 200 rounds.\n",
            "[20]\ttraining's binary_error: 0.0823672\tvalid_1's binary_error: 0.112649\n",
            "[40]\ttraining's binary_error: 0.0778149\tvalid_1's binary_error: 0.112649\n",
            "[60]\ttraining's binary_error: 0.0734446\tvalid_1's binary_error: 0.112042\n",
            "[80]\ttraining's binary_error: 0.0720789\tvalid_1's binary_error: 0.112163\n",
            "[100]\ttraining's binary_error: 0.0712291\tvalid_1's binary_error: 0.111799\n",
            "[120]\ttraining's binary_error: 0.0701669\tvalid_1's binary_error: 0.111435\n",
            "[140]\ttraining's binary_error: 0.0694689\tvalid_1's binary_error: 0.111435\n",
            "[160]\ttraining's binary_error: 0.0680121\tvalid_1's binary_error: 0.111313\n",
            "[180]\ttraining's binary_error: 0.0662822\tvalid_1's binary_error: 0.111678\n",
            "[200]\ttraining's binary_error: 0.065129\tvalid_1's binary_error: 0.111435\n",
            "[220]\ttraining's binary_error: 0.0643703\tvalid_1's binary_error: 0.111556\n",
            "[240]\ttraining's binary_error: 0.063915\tvalid_1's binary_error: 0.111313\n",
            "[260]\ttraining's binary_error: 0.0624279\tvalid_1's binary_error: 0.111556\n",
            "[280]\ttraining's binary_error: 0.0621851\tvalid_1's binary_error: 0.111799\n",
            "[300]\ttraining's binary_error: 0.0614568\tvalid_1's binary_error: 0.111799\n",
            "[320]\ttraining's binary_error: 0.0607284\tvalid_1's binary_error: 0.111799\n",
            "[340]\ttraining's binary_error: 0.0597572\tvalid_1's binary_error: 0.111799\n",
            "[360]\ttraining's binary_error: 0.0594234\tvalid_1's binary_error: 0.111678\n",
            "Early stopping, best iteration is:\n",
            "[162]\ttraining's binary_error: 0.067739\tvalid_1's binary_error: 0.111192\n",
            "Fold score: 0.8888079630978393\n",
            "Fold idx:2\n",
            "Training until validation scores don't improve for 200 rounds.\n",
            "[20]\ttraining's binary_error: 0.077997\tvalid_1's binary_error: 0.62236\n",
            "[40]\ttraining's binary_error: 0.070349\tvalid_1's binary_error: 0.629279\n",
            "[60]\ttraining's binary_error: 0.0674962\tvalid_1's binary_error: 0.611192\n",
            "[80]\ttraining's binary_error: 0.0661002\tvalid_1's binary_error: 0.57429\n",
            "[100]\ttraining's binary_error: 0.0653414\tvalid_1's binary_error: 0.497815\n",
            "[120]\ttraining's binary_error: 0.0640668\tvalid_1's binary_error: 0.481428\n",
            "[140]\ttraining's binary_error: 0.0631866\tvalid_1's binary_error: 0.46067\n",
            "[160]\ttraining's binary_error: 0.0622762\tvalid_1's binary_error: 0.458364\n",
            "[180]\ttraining's binary_error: 0.0616085\tvalid_1's binary_error: 0.448653\n",
            "[200]\ttraining's binary_error: 0.0606677\tvalid_1's binary_error: 0.467832\n",
            "Early stopping, best iteration is:\n",
            "[1]\ttraining's binary_error: 0.112656\tvalid_1's binary_error: 0.112649\n",
            "Fold score: 0.8873512988589464\n",
            "Fold idx:3\n",
            "Training until validation scores don't improve for 200 rounds.\n",
            "[20]\ttraining's binary_error: 0.0797876\tvalid_1's binary_error: 0.20891\n",
            "[40]\ttraining's binary_error: 0.071047\tvalid_1's binary_error: 0.192158\n",
            "[60]\ttraining's binary_error: 0.0679211\tvalid_1's binary_error: 0.201991\n",
            "[80]\ttraining's binary_error: 0.0658877\tvalid_1's binary_error: 0.209395\n",
            "[100]\ttraining's binary_error: 0.0641882\tvalid_1's binary_error: 0.199077\n",
            "[120]\ttraining's binary_error: 0.0628528\tvalid_1's binary_error: 0.205511\n",
            "[140]\ttraining's binary_error: 0.0622762\tvalid_1's binary_error: 0.202476\n",
            "[160]\ttraining's binary_error: 0.0611836\tvalid_1's binary_error: 0.20454\n",
            "[180]\ttraining's binary_error: 0.059909\tvalid_1's binary_error: 0.209517\n",
            "[200]\ttraining's binary_error: 0.0590592\tvalid_1's binary_error: 0.214251\n",
            "Early stopping, best iteration is:\n",
            "[1]\ttraining's binary_error: 0.112656\tvalid_1's binary_error: 0.112649\n",
            "Fold score: 0.8873512988589464\n",
            "Fold idx:4\n",
            "Training until validation scores don't improve for 200 rounds.\n",
            "[20]\ttraining's binary_error: 0.0695275\tvalid_1's binary_error: 0.823479\n",
            "[40]\ttraining's binary_error: 0.0601196\tvalid_1's binary_error: 0.830278\n",
            "[60]\ttraining's binary_error: 0.0584201\tvalid_1's binary_error: 0.831006\n",
            "[80]\ttraining's binary_error: 0.0574186\tvalid_1's binary_error: 0.831371\n",
            "[100]\ttraining's binary_error: 0.0565081\tvalid_1's binary_error: 0.830399\n",
            "[120]\ttraining's binary_error: 0.0560529\tvalid_1's binary_error: 0.832342\n",
            "[140]\ttraining's binary_error: 0.0556281\tvalid_1's binary_error: 0.838169\n",
            "[160]\ttraining's binary_error: 0.0547176\tvalid_1's binary_error: 0.837684\n",
            "[180]\ttraining's binary_error: 0.0536251\tvalid_1's binary_error: 0.835984\n",
            "[200]\ttraining's binary_error: 0.0531699\tvalid_1's binary_error: 0.836105\n",
            "Early stopping, best iteration is:\n",
            "[1]\ttraining's binary_error: 0.112652\tvalid_1's binary_error: 0.112662\n",
            "Fold score: 0.8873376229209664\n",
            "Fold idx:5\n",
            "Training until validation scores don't improve for 200 rounds.\n",
            "[20]\ttraining's binary_error: 0.0572062\tvalid_1's binary_error: 0.856258\n",
            "[40]\ttraining's binary_error: 0.050651\tvalid_1's binary_error: 0.856865\n",
            "[60]\ttraining's binary_error: 0.0485266\tvalid_1's binary_error: 0.857594\n",
            "[80]\ttraining's binary_error: 0.0474037\tvalid_1's binary_error: 0.857837\n",
            "[100]\ttraining's binary_error: 0.046645\tvalid_1's binary_error: 0.857837\n",
            "[120]\ttraining's binary_error: 0.0457346\tvalid_1's binary_error: 0.857837\n",
            "[140]\ttraining's binary_error: 0.0447938\tvalid_1's binary_error: 0.85468\n",
            "[160]\ttraining's binary_error: 0.0438833\tvalid_1's binary_error: 0.856623\n",
            "[180]\ttraining's binary_error: 0.0435192\tvalid_1's binary_error: 0.855044\n",
            "[200]\ttraining's binary_error: 0.0424873\tvalid_1's binary_error: 0.84861\n",
            "Early stopping, best iteration is:\n",
            "[1]\ttraining's binary_error: 0.112652\tvalid_1's binary_error: 0.112662\n",
            "Fold score: 0.8873376229209664\n",
            "Total score: 0.8876371758764688\n"
          ],
          "name": "stdout"
        }
      ]
    },
    {
      "metadata": {
        "id": "dszeLwrGR-EI",
        "colab_type": "code",
        "colab": {
          "base_uri": "https://localhost:8080/",
          "height": 1913
        },
        "outputId": "4a714515-c661-43d3-e633-90c6f890a904"
      },
      "cell_type": "code",
      "source": [
        "import matplotlib.pyplot as plt\n",
        "cols = (feature_importance_df[[\"feature\", \"importance\"]]\n",
        "        .groupby(\"feature\")\n",
        "        .mean()\n",
        "        .sort_values(by=\"importance\", ascending=False)[:1000].index)\n",
        "best_features = feature_importance_df.loc[feature_importance_df.feature.isin(cols)]\n",
        "\n",
        "plt.figure(figsize=(14,26))\n",
        "sns.barplot(x=\"importance\", y=\"feature\", data=best_features.sort_values(by=\"importance\",ascending=False))\n",
        "plt.title('LightGBM Features (averaged over folds)')\n",
        "plt.tight_layout()"
      ],
      "execution_count": 107,
      "outputs": [
        {
          "output_type": "stream",
          "text": [
            "/usr/local/lib/python3.6/dist-packages/seaborn/categorical.py:1428: FutureWarning: remove_na is deprecated and is a private function. Do not use.\n",
            "  stat_data = remove_na(group_data)\n"
          ],
          "name": "stderr"
        },
        {
          "output_type": "display_data",
          "data": {
            "image/png": "[encoded data removed]",
            "text/plain": [
              "<Figure size 1008x1872 with 1 Axes>"
            ]
          },
          "metadata": {
            "tags": []
          }
        }
      ]
    }
  ]
}